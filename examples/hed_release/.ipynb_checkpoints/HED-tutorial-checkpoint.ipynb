{
 "metadata": {
  "description": "How to do net surgery and manually change model parameters, making a fully-convolutional classifier for dense feature extraction.",
  "example_name": "Editing model parameters",
  "include_in_docs": true,
  "priority": 5,
  "signature": "sha256:3ce22ff444dff79def0e50d5911756e29b7455306710ec08f48db20a529fc798"
 },
 "nbformat": 3,
 "nbformat_minor": 0,
 "worksheets": [
  {
   "cells": [
    {
     "cell_type": "markdown",
     "metadata": {},
     "source": [
      "This is the python-based interface for our paper:\n",
      "\n",
      ">**Holistically-Nested Edge Detection**,\n",
      "Saining Xie and Zhuowen Tu, http://arxiv.org/abs/1504.06375, 2015\n"
     ]
    },
    {
     "cell_type": "code",
     "collapsed": false,
     "input": [
      "#import useful util functions\n",
      "\n",
      "import sys\n",
      "# Make sure that caffe is on the python path:\n",
      "caffe_root = '../../'  # this file is expected to be in {caffe_root}/examples/hed_release/\n",
      "sys.path.insert(0, caffe_root + 'python')\n",
      "\n",
      "import numpy as np\n",
      "import matplotlib.pyplot as plt\n",
      "import caffe\n",
      "import math\n",
      "import matplotlib.cm as cm\n",
      "import scipy.misc\n",
      "import matplotlib.pylab as pylab\n",
      "\n",
      "\n",
      "%matplotlib inline"
     ],
     "language": "python",
     "metadata": {},
     "outputs": []
    },
    {
     "cell_type": "code",
     "collapsed": false,
     "input": [
      "#Set up Caffe parameters\n",
      "def setup_net(model_root, deploy_file, model_file):\n",
      "    \n",
      "    net_full_conv = caffe.Net(model_root+deploy_file, model_root+model_file)\n",
      "    net_full_conv.set_mode_gpu() #Choose between GPU and CPU\n",
      "    net_full_conv.set_device(3)  #If GPU, Choose an Device ID\n",
      "    net_full_conv.set_phase_test()\n",
      "    net_full_conv.set_mean('data', np.load('../../python/caffe/imagenet/ilsvrc_2012_mean.npy'))\n",
      "    net_full_conv.set_channel_swap('data', (2,1,0))\n",
      "    net_full_conv.set_raw_scale('data', 255.0)\n",
      "    return net_full_conv"
     ],
     "language": "python",
     "metadata": {},
     "outputs": []
    },
    {
     "cell_type": "code",
     "collapsed": false,
     "input": [
      "#Partition the list into batches\n",
      "def partition(l, n):\n",
      "    n = max(1, n)\n",
      "    return [l[i:i + n] for i in range(0, len(l), n)]"
     ],
     "language": "python",
     "metadata": {},
     "outputs": []
    },
    {
     "cell_type": "code",
     "collapsed": false,
     "input": [
      "#Main testing functions\n",
      "def batch_testing(batches, model_root, deploy_file, model_file):\n",
      "    out_lst = []\n",
      "    for i in range(0, len(batches)):\n",
      "        if len(batches) >= 5 and i%(len(batches)/5) == 0:\n",
      "            print model_file.split('.')[0], ' batch ', i, '/', len(batches), ' done...'\n",
      "        \n",
      "        im_lst = batches[i]\n",
      "        batch_size = len(im_lst)\n",
      "        re_size = im_lst[0].shape\n",
      "        !cd {model_root} && sed -i \"4s/.*/input_dim: \"{str(batch_size)}\"/\" {deploy_file}\n",
      "        !cd {model_root} && sed -i \"6s/.*/input_dim: \"{str(re_size[0])}\"/\" {deploy_file}\n",
      "        !cd {model_root} && sed -i \"7s/.*/input_dim: \"{str(re_size[1])}\"/\" {deploy_file}\n",
      "        \n",
      "        net_full_conv = setup_net(model_root, deploy_file, model_file)\n",
      "        \n",
      "        caffe_input = np.asarray([net_full_conv.preprocess('data', in_) for in_ in im_lst])\n",
      "        out = net_full_conv.forward_all(data = caffe_input)\n",
      "        \n",
      "        for j in range(0, len(im_lst)):\n",
      "            temp_dict = {}\n",
      "            temp_dict['sigmoid-upscore-fuse'] =  out['sigmoid-upscore-fuse'][j, 0, :, :]\n",
      "            temp_dict['sigmoid-upscore-dsn1'] =  out['sigmoid-upscore-dsn1'][j, 0, :, :]\n",
      "            temp_dict['sigmoid-upscore-dsn2'] =  out['sigmoid-upscore-dsn2'][j, 0, :, :]\n",
      "            temp_dict['sigmoid-upscore-dsn3'] =  out['sigmoid-upscore-dsn3'][j, 0, :, :]\n",
      "            temp_dict['sigmoid-upscore-dsn4'] =  out['sigmoid-upscore-dsn4'][j, 0, :, :]\n",
      "            temp_dict['sigmoid-upscore-dsn5'] =  out['sigmoid-upscore-dsn5'][j, 0, :, :]\n",
      "            out_lst.append(temp_dict)\n",
      "        \n",
      "    return out_lst"
     ],
     "language": "python",
     "metadata": {},
     "outputs": []
    },
    {
     "cell_type": "code",
     "collapsed": false,
     "input": [
      "#Visualization\n",
      "def plot_single_scale(scale_lst, size):\n",
      "    pylab.rcParams['figure.figsize'] = size, size/2\n",
      "    \n",
      "    plt.figure()\n",
      "    for i in range(0, len(scale_lst)):\n",
      "        s=plt.subplot(1,5,i+1)\n",
      "        plt.imshow(1-scale_lst[i], cmap = cm.Greys_r)\n",
      "        s.set_xticklabels([])\n",
      "        s.set_yticklabels([])\n",
      "        s.yaxis.set_ticks_position('none')\n",
      "        s.xaxis.set_ticks_position('none')\n",
      "    plt.tight_layout()"
     ],
     "language": "python",
     "metadata": {},
     "outputs": []
    },
    {
     "cell_type": "code",
     "collapsed": false,
     "input": [
      "#Setting test set list\n",
      "test_lst = ['./peppers_trees.png']"
     ],
     "language": "python",
     "metadata": {},
     "outputs": []
    },
    {
     "cell_type": "markdown",
     "metadata": {},
     "source": [
      "Test the model on input image, and visualize the results\n",
      "\n",
      "two rows\n",
      "\n",
      ">top left: HED weighted-fusion layer output, top right: HED average 1-5 output;\n",
      "\n",
      ">bottom: output results from each of the five scales\n",
      "\n",
      "Note this ipython notebook interface is created for demonstration and visualization. To get full speed during testing, you need to increase the testing batch size, or try to resize the input image, or directly use the Caffe C++ interface"
     ]
    },
    {
     "cell_type": "code",
     "collapsed": false,
     "input": [
      "im = []\n",
      "for i in range(0, len(test_lst)):\n",
      "    im.append(caffe.io.load_image(test_lst[i]))\n",
      "    \n",
      "batched_im = partition(im, 1)\n",
      "\n",
      "#Load the pretrained model and deploy prototxt correspondingly\n",
      "model_root = './models/'\n",
      "deploy_file = 'hed.prototxt'\n",
      "\n",
      "model_file = 'hed_bsds.caffemodel'\n",
      "hed_res = batch_testing(batched_im, model_root, deploy_file, model_file)\n",
      "\n",
      "pid = 0 #Change this if testing in batch mode\n",
      "fuse = hed_res[pid]['sigmoid-upscore-fuse']\n",
      "s1 = hed_res[pid]['sigmoid-upscore-dsn1']\n",
      "s2 = hed_res[pid]['sigmoid-upscore-dsn2']\n",
      "s3 = hed_res[pid]['sigmoid-upscore-dsn3']\n",
      "s4 = hed_res[pid]['sigmoid-upscore-dsn4']\n",
      "s5 = hed_res[pid]['sigmoid-upscore-dsn5']\n",
      "ave = (s1 + s2 + s3 + s4 + s5)/5\n",
      "\n",
      "scale_lst = [fuse, ave]\n",
      "plot_single_scale(scale_lst, 22)\n",
      "\n",
      "scale_lst = [s1, s2, s3, s4, s5]\n",
      "plot_single_scale(scale_lst, 10)"
     ],
     "language": "python",
     "metadata": {},
     "outputs": []
    }
   ],
   "metadata": {}
  }
 ]
}